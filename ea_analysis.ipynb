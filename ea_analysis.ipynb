{
 "cells": [
  {
   "cell_type": "code",
   "execution_count": 1,
   "metadata": {},
   "outputs": [],
   "source": [
    "import pandas as pd\n",
    "import os\n",
    "from datetime import datetime\n",
    "import time\n",
    "from functions import *\n"
   ]
  },
  {
   "cell_type": "code",
   "execution_count": 2,
   "metadata": {},
   "outputs": [],
   "source": [
    "# Create list of html files in the html folder: Does not weed out non-html\n",
    "html_pages = os.listdir(\"resources/html\")\n",
    "\n",
    "# Create DataFrame to concat to\n",
    "compiled_df = pd.DataFrame()\n",
    "\n",
    "# Loop through html_pages list to pull in\n",
    "for page in html_pages:\n",
    "\n",
    "    # Read in the file using pandas\n",
    "    # Render the 3rd row as data header skipping the first two rows\n",
    "    df = pd.read_html(f\"resources/html/{page}\", header=2)\n",
    "    \n",
    "    # Pull the first Table which is the only table in the html page\n",
    "    data_df = pd.DataFrame(df[0])\n",
    "\n",
    "    # Convert Ticket to numeric and coerce the rest to NaN\n",
    "    data_df['Ticket'] = pd.to_numeric(data_df['Ticket'], errors=\"coerce\")\n",
    "\n",
    "    # Keep only that of Ticket and Size that is not null\n",
    "    # This keeps trade data then removes the first row of balance\n",
    "    data_df = data_df[(pd.notnull(data_df['Ticket'])) & (pd.notnull(data_df['Size']))]\n",
    "    compiled_df = pd.concat([compiled_df, data_df], axis=\"rows\")"
   ]
  },
  {
   "cell_type": "code",
   "execution_count": 3,
   "metadata": {},
   "outputs": [
    {
     "data": {
      "text/plain": [
       "array(['xauusd', 'dj30.p', '.us30cash', 'nvda', 'googl', 'aapl', 'ymh24'],\n",
       "      dtype=object)"
      ]
     },
     "execution_count": 3,
     "metadata": {},
     "output_type": "execute_result"
    }
   ],
   "source": [
    "# compiled_df.loc[compiled_df['Item'] == \"dj30.p\"]\n",
    "compiled_df['Item'].unique()"
   ]
  },
  {
   "cell_type": "markdown",
   "metadata": {},
   "source": [
    "## Making a dataframe for each asset"
   ]
  },
  {
   "cell_type": "markdown",
   "metadata": {},
   "source": [
    "### Dow Jones index"
   ]
  },
  {
   "cell_type": "code",
   "execution_count": 4,
   "metadata": {},
   "outputs": [
    {
     "data": {
      "text/html": [
       "<div>\n",
       "<style scoped>\n",
       "    .dataframe tbody tr th:only-of-type {\n",
       "        vertical-align: middle;\n",
       "    }\n",
       "\n",
       "    .dataframe tbody tr th {\n",
       "        vertical-align: top;\n",
       "    }\n",
       "\n",
       "    .dataframe thead th {\n",
       "        text-align: right;\n",
       "    }\n",
       "</style>\n",
       "<table border=\"1\" class=\"dataframe\">\n",
       "  <thead>\n",
       "    <tr style=\"text-align: right;\">\n",
       "      <th></th>\n",
       "      <th>Ticket</th>\n",
       "      <th>Open Time</th>\n",
       "      <th>Type</th>\n",
       "      <th>Size</th>\n",
       "      <th>Item</th>\n",
       "      <th>Price</th>\n",
       "      <th>S / L</th>\n",
       "      <th>T / P</th>\n",
       "      <th>Close Time</th>\n",
       "      <th>Price.1</th>\n",
       "      <th>Commission</th>\n",
       "      <th>Taxes</th>\n",
       "      <th>Swap</th>\n",
       "      <th>Profit</th>\n",
       "    </tr>\n",
       "  </thead>\n",
       "  <tbody>\n",
       "    <tr>\n",
       "      <th>1</th>\n",
       "      <td>75801834.0</td>\n",
       "      <td>2024.02.08 15:43:58</td>\n",
       "      <td>buy</td>\n",
       "      <td>20.00</td>\n",
       "      <td>dj30.p</td>\n",
       "      <td>38710.68</td>\n",
       "      <td>38710.58</td>\n",
       "      <td>0.00</td>\n",
       "      <td>2024.02.08 15:43:58</td>\n",
       "      <td>38710.58</td>\n",
       "      <td>0.00</td>\n",
       "      <td>0.00</td>\n",
       "      <td>0.00</td>\n",
       "      <td>-20.00</td>\n",
       "    </tr>\n",
       "    <tr>\n",
       "      <th>2</th>\n",
       "      <td>75801957.0</td>\n",
       "      <td>2024.02.08 15:44:02</td>\n",
       "      <td>buy</td>\n",
       "      <td>20.00</td>\n",
       "      <td>dj30.p</td>\n",
       "      <td>38710.68</td>\n",
       "      <td>38710.83</td>\n",
       "      <td>0.00</td>\n",
       "      <td>2024.02.08 15:44:03</td>\n",
       "      <td>38710.83</td>\n",
       "      <td>0.00</td>\n",
       "      <td>0.00</td>\n",
       "      <td>0.00</td>\n",
       "      <td>30.00</td>\n",
       "    </tr>\n",
       "    <tr>\n",
       "      <th>3</th>\n",
       "      <td>75802369.0</td>\n",
       "      <td>2024.02.08 15:44:18</td>\n",
       "      <td>buy</td>\n",
       "      <td>20.00</td>\n",
       "      <td>dj30.p</td>\n",
       "      <td>38708.68</td>\n",
       "      <td>38708.58</td>\n",
       "      <td>0.00</td>\n",
       "      <td>2024.02.08 15:44:18</td>\n",
       "      <td>38708.58</td>\n",
       "      <td>0.00</td>\n",
       "      <td>0.00</td>\n",
       "      <td>0.00</td>\n",
       "      <td>-20.00</td>\n",
       "    </tr>\n",
       "    <tr>\n",
       "      <th>4</th>\n",
       "      <td>75802447.0</td>\n",
       "      <td>2024.02.08 15:44:19</td>\n",
       "      <td>buy</td>\n",
       "      <td>20.00</td>\n",
       "      <td>dj30.p</td>\n",
       "      <td>38709.68</td>\n",
       "      <td>38709.58</td>\n",
       "      <td>0.00</td>\n",
       "      <td>2024.02.08 15:44:19</td>\n",
       "      <td>38709.58</td>\n",
       "      <td>0.00</td>\n",
       "      <td>0.00</td>\n",
       "      <td>0.00</td>\n",
       "      <td>-20.00</td>\n",
       "    </tr>\n",
       "    <tr>\n",
       "      <th>5</th>\n",
       "      <td>75802523.0</td>\n",
       "      <td>2024.02.08 15:44:25</td>\n",
       "      <td>buy</td>\n",
       "      <td>20.00</td>\n",
       "      <td>dj30.p</td>\n",
       "      <td>38709.18</td>\n",
       "      <td>38709.08</td>\n",
       "      <td>0.00</td>\n",
       "      <td>2024.02.08 15:44:25</td>\n",
       "      <td>38709.08</td>\n",
       "      <td>0.00</td>\n",
       "      <td>0.00</td>\n",
       "      <td>0.00</td>\n",
       "      <td>-20.00</td>\n",
       "    </tr>\n",
       "  </tbody>\n",
       "</table>\n",
       "</div>"
      ],
      "text/plain": [
       "       Ticket            Open Time Type   Size    Item     Price     S / L  \\\n",
       "1  75801834.0  2024.02.08 15:43:58  buy  20.00  dj30.p  38710.68  38710.58   \n",
       "2  75801957.0  2024.02.08 15:44:02  buy  20.00  dj30.p  38710.68  38710.83   \n",
       "3  75802369.0  2024.02.08 15:44:18  buy  20.00  dj30.p  38708.68  38708.58   \n",
       "4  75802447.0  2024.02.08 15:44:19  buy  20.00  dj30.p  38709.68  38709.58   \n",
       "5  75802523.0  2024.02.08 15:44:25  buy  20.00  dj30.p  38709.18  38709.08   \n",
       "\n",
       "  T / P           Close Time   Price.1 Commission Taxes  Swap  Profit  \n",
       "1  0.00  2024.02.08 15:43:58  38710.58       0.00  0.00  0.00  -20.00  \n",
       "2  0.00  2024.02.08 15:44:03  38710.83       0.00  0.00  0.00   30.00  \n",
       "3  0.00  2024.02.08 15:44:18  38708.58       0.00  0.00  0.00  -20.00  \n",
       "4  0.00  2024.02.08 15:44:19  38709.58       0.00  0.00  0.00  -20.00  \n",
       "5  0.00  2024.02.08 15:44:25  38709.08       0.00  0.00  0.00  -20.00  "
      ]
     },
     "execution_count": 4,
     "metadata": {},
     "output_type": "execute_result"
    }
   ],
   "source": [
    "dj30_performance_df = compiled_df.loc[compiled_df['Item'] == \"dj30.p\"]\n",
    "dj30_performance_df.head()"
   ]
  },
  {
   "cell_type": "markdown",
   "metadata": {},
   "source": [
    "### Nvidia"
   ]
  },
  {
   "cell_type": "code",
   "execution_count": 5,
   "metadata": {},
   "outputs": [
    {
     "data": {
      "text/html": [
       "<div>\n",
       "<style scoped>\n",
       "    .dataframe tbody tr th:only-of-type {\n",
       "        vertical-align: middle;\n",
       "    }\n",
       "\n",
       "    .dataframe tbody tr th {\n",
       "        vertical-align: top;\n",
       "    }\n",
       "\n",
       "    .dataframe thead th {\n",
       "        text-align: right;\n",
       "    }\n",
       "</style>\n",
       "<table border=\"1\" class=\"dataframe\">\n",
       "  <thead>\n",
       "    <tr style=\"text-align: right;\">\n",
       "      <th></th>\n",
       "      <th>Ticket</th>\n",
       "      <th>Open Time</th>\n",
       "      <th>Type</th>\n",
       "      <th>Size</th>\n",
       "      <th>Item</th>\n",
       "      <th>Price</th>\n",
       "      <th>S / L</th>\n",
       "      <th>T / P</th>\n",
       "      <th>Close Time</th>\n",
       "      <th>Price.1</th>\n",
       "      <th>Commission</th>\n",
       "      <th>Taxes</th>\n",
       "      <th>Swap</th>\n",
       "      <th>Profit</th>\n",
       "    </tr>\n",
       "  </thead>\n",
       "  <tbody>\n",
       "    <tr>\n",
       "      <th>11</th>\n",
       "      <td>772077929.0</td>\n",
       "      <td>2024.02.29 17:05:02</td>\n",
       "      <td>sell</td>\n",
       "      <td>0.10</td>\n",
       "      <td>nvda</td>\n",
       "      <td>796.12</td>\n",
       "      <td>796.36</td>\n",
       "      <td>0.00</td>\n",
       "      <td>2024.02.29 17:05:02</td>\n",
       "      <td>796.89</td>\n",
       "      <td>-2.39</td>\n",
       "      <td>0.00</td>\n",
       "      <td>0.00</td>\n",
       "      <td>-7.70</td>\n",
       "    </tr>\n",
       "    <tr>\n",
       "      <th>12</th>\n",
       "      <td>772077833.0</td>\n",
       "      <td>2024.02.29 17:04:58</td>\n",
       "      <td>sell</td>\n",
       "      <td>0.10</td>\n",
       "      <td>nvda</td>\n",
       "      <td>796.10</td>\n",
       "      <td>796.25</td>\n",
       "      <td>0.00</td>\n",
       "      <td>2024.02.29 17:04:59</td>\n",
       "      <td>796.97</td>\n",
       "      <td>-2.39</td>\n",
       "      <td>0.00</td>\n",
       "      <td>0.00</td>\n",
       "      <td>-8.70</td>\n",
       "    </tr>\n",
       "    <tr>\n",
       "      <th>14</th>\n",
       "      <td>772077721.0</td>\n",
       "      <td>2024.02.29 17:04:48</td>\n",
       "      <td>sell</td>\n",
       "      <td>0.10</td>\n",
       "      <td>nvda</td>\n",
       "      <td>796.02</td>\n",
       "      <td>796.27</td>\n",
       "      <td>0.00</td>\n",
       "      <td>2024.02.29 17:04:48</td>\n",
       "      <td>796.41</td>\n",
       "      <td>-2.39</td>\n",
       "      <td>0.00</td>\n",
       "      <td>0.00</td>\n",
       "      <td>-3.90</td>\n",
       "    </tr>\n",
       "    <tr>\n",
       "      <th>15</th>\n",
       "      <td>772077654.0</td>\n",
       "      <td>2024.02.29 17:04:44</td>\n",
       "      <td>sell</td>\n",
       "      <td>0.10</td>\n",
       "      <td>nvda</td>\n",
       "      <td>795.87</td>\n",
       "      <td>796.13</td>\n",
       "      <td>0.00</td>\n",
       "      <td>2024.02.29 17:04:45</td>\n",
       "      <td>796.31</td>\n",
       "      <td>-2.39</td>\n",
       "      <td>0.00</td>\n",
       "      <td>0.00</td>\n",
       "      <td>-4.40</td>\n",
       "    </tr>\n",
       "    <tr>\n",
       "      <th>17</th>\n",
       "      <td>772077191.0</td>\n",
       "      <td>2024.02.29 17:04:03</td>\n",
       "      <td>sell</td>\n",
       "      <td>0.10</td>\n",
       "      <td>nvda</td>\n",
       "      <td>795.73</td>\n",
       "      <td>795.70</td>\n",
       "      <td>0.00</td>\n",
       "      <td>2024.02.29 17:04:05</td>\n",
       "      <td>795.83</td>\n",
       "      <td>-2.39</td>\n",
       "      <td>0.00</td>\n",
       "      <td>0.00</td>\n",
       "      <td>-1.00</td>\n",
       "    </tr>\n",
       "  </tbody>\n",
       "</table>\n",
       "</div>"
      ],
      "text/plain": [
       "         Ticket            Open Time  Type  Size  Item   Price   S / L T / P  \\\n",
       "11  772077929.0  2024.02.29 17:05:02  sell  0.10  nvda  796.12  796.36  0.00   \n",
       "12  772077833.0  2024.02.29 17:04:58  sell  0.10  nvda  796.10  796.25  0.00   \n",
       "14  772077721.0  2024.02.29 17:04:48  sell  0.10  nvda  796.02  796.27  0.00   \n",
       "15  772077654.0  2024.02.29 17:04:44  sell  0.10  nvda  795.87  796.13  0.00   \n",
       "17  772077191.0  2024.02.29 17:04:03  sell  0.10  nvda  795.73  795.70  0.00   \n",
       "\n",
       "             Close Time Price.1 Commission Taxes  Swap Profit  \n",
       "11  2024.02.29 17:05:02  796.89      -2.39  0.00  0.00  -7.70  \n",
       "12  2024.02.29 17:04:59  796.97      -2.39  0.00  0.00  -8.70  \n",
       "14  2024.02.29 17:04:48  796.41      -2.39  0.00  0.00  -3.90  \n",
       "15  2024.02.29 17:04:45  796.31      -2.39  0.00  0.00  -4.40  \n",
       "17  2024.02.29 17:04:05  795.83      -2.39  0.00  0.00  -1.00  "
      ]
     },
     "execution_count": 5,
     "metadata": {},
     "output_type": "execute_result"
    }
   ],
   "source": [
    "nvda_performance_df = compiled_df.loc[compiled_df['Item'] == \"nvda\"]\n",
    "nvda_performance_df.head()"
   ]
  },
  {
   "cell_type": "markdown",
   "metadata": {},
   "source": [
    "### Apple"
   ]
  },
  {
   "cell_type": "code",
   "execution_count": 6,
   "metadata": {},
   "outputs": [
    {
     "data": {
      "text/html": [
       "<div>\n",
       "<style scoped>\n",
       "    .dataframe tbody tr th:only-of-type {\n",
       "        vertical-align: middle;\n",
       "    }\n",
       "\n",
       "    .dataframe tbody tr th {\n",
       "        vertical-align: top;\n",
       "    }\n",
       "\n",
       "    .dataframe thead th {\n",
       "        text-align: right;\n",
       "    }\n",
       "</style>\n",
       "<table border=\"1\" class=\"dataframe\">\n",
       "  <thead>\n",
       "    <tr style=\"text-align: right;\">\n",
       "      <th></th>\n",
       "      <th>Ticket</th>\n",
       "      <th>Open Time</th>\n",
       "      <th>Type</th>\n",
       "      <th>Size</th>\n",
       "      <th>Item</th>\n",
       "      <th>Price</th>\n",
       "      <th>S / L</th>\n",
       "      <th>T / P</th>\n",
       "      <th>Close Time</th>\n",
       "      <th>Price.1</th>\n",
       "      <th>Commission</th>\n",
       "      <th>Taxes</th>\n",
       "      <th>Swap</th>\n",
       "      <th>Profit</th>\n",
       "    </tr>\n",
       "  </thead>\n",
       "  <tbody>\n",
       "    <tr>\n",
       "      <th>18</th>\n",
       "      <td>772077014.0</td>\n",
       "      <td>2024.02.29 17:03:50</td>\n",
       "      <td>sell</td>\n",
       "      <td>0.10</td>\n",
       "      <td>aapl</td>\n",
       "      <td>182.04</td>\n",
       "      <td>182.00</td>\n",
       "      <td>0.00</td>\n",
       "      <td>2024.02.29 17:04:24</td>\n",
       "      <td>182.00</td>\n",
       "      <td>-0.55</td>\n",
       "      <td>0.00</td>\n",
       "      <td>0.00</td>\n",
       "      <td>0.40</td>\n",
       "    </tr>\n",
       "    <tr>\n",
       "      <th>27</th>\n",
       "      <td>772076428.0</td>\n",
       "      <td>2024.02.29 17:02:54</td>\n",
       "      <td>sell</td>\n",
       "      <td>0.10</td>\n",
       "      <td>aapl</td>\n",
       "      <td>181.92</td>\n",
       "      <td>181.91</td>\n",
       "      <td>0.00</td>\n",
       "      <td>2024.02.29 17:03:30</td>\n",
       "      <td>181.92</td>\n",
       "      <td>-0.55</td>\n",
       "      <td>0.00</td>\n",
       "      <td>0.00</td>\n",
       "      <td>0.00</td>\n",
       "    </tr>\n",
       "    <tr>\n",
       "      <th>28</th>\n",
       "      <td>772076210.0</td>\n",
       "      <td>2024.02.29 17:02:38</td>\n",
       "      <td>sell</td>\n",
       "      <td>0.10</td>\n",
       "      <td>aapl</td>\n",
       "      <td>181.85</td>\n",
       "      <td>181.95</td>\n",
       "      <td>0.00</td>\n",
       "      <td>2024.02.29 17:02:52</td>\n",
       "      <td>181.96</td>\n",
       "      <td>-0.55</td>\n",
       "      <td>0.00</td>\n",
       "      <td>0.00</td>\n",
       "      <td>-1.10</td>\n",
       "    </tr>\n",
       "    <tr>\n",
       "      <th>31</th>\n",
       "      <td>772075994.0</td>\n",
       "      <td>2024.02.29 17:02:18</td>\n",
       "      <td>sell</td>\n",
       "      <td>0.10</td>\n",
       "      <td>aapl</td>\n",
       "      <td>181.71</td>\n",
       "      <td>181.82</td>\n",
       "      <td>0.00</td>\n",
       "      <td>2024.02.29 17:02:32</td>\n",
       "      <td>181.82</td>\n",
       "      <td>-0.55</td>\n",
       "      <td>0.00</td>\n",
       "      <td>0.00</td>\n",
       "      <td>-1.10</td>\n",
       "    </tr>\n",
       "    <tr>\n",
       "      <th>52</th>\n",
       "      <td>772073371.0</td>\n",
       "      <td>2024.02.29 17:00:31</td>\n",
       "      <td>sell</td>\n",
       "      <td>0.10</td>\n",
       "      <td>aapl</td>\n",
       "      <td>181.59</td>\n",
       "      <td>181.57</td>\n",
       "      <td>0.00</td>\n",
       "      <td>2024.02.29 17:00:59</td>\n",
       "      <td>181.59</td>\n",
       "      <td>-0.54</td>\n",
       "      <td>0.00</td>\n",
       "      <td>0.00</td>\n",
       "      <td>0.00</td>\n",
       "    </tr>\n",
       "  </tbody>\n",
       "</table>\n",
       "</div>"
      ],
      "text/plain": [
       "         Ticket            Open Time  Type  Size  Item   Price   S / L T / P  \\\n",
       "18  772077014.0  2024.02.29 17:03:50  sell  0.10  aapl  182.04  182.00  0.00   \n",
       "27  772076428.0  2024.02.29 17:02:54  sell  0.10  aapl  181.92  181.91  0.00   \n",
       "28  772076210.0  2024.02.29 17:02:38  sell  0.10  aapl  181.85  181.95  0.00   \n",
       "31  772075994.0  2024.02.29 17:02:18  sell  0.10  aapl  181.71  181.82  0.00   \n",
       "52  772073371.0  2024.02.29 17:00:31  sell  0.10  aapl  181.59  181.57  0.00   \n",
       "\n",
       "             Close Time Price.1 Commission Taxes  Swap Profit  \n",
       "18  2024.02.29 17:04:24  182.00      -0.55  0.00  0.00   0.40  \n",
       "27  2024.02.29 17:03:30  181.92      -0.55  0.00  0.00   0.00  \n",
       "28  2024.02.29 17:02:52  181.96      -0.55  0.00  0.00  -1.10  \n",
       "31  2024.02.29 17:02:32  181.82      -0.55  0.00  0.00  -1.10  \n",
       "52  2024.02.29 17:00:59  181.59      -0.54  0.00  0.00   0.00  "
      ]
     },
     "execution_count": 6,
     "metadata": {},
     "output_type": "execute_result"
    }
   ],
   "source": [
    "aapl_performance_df = compiled_df.loc[compiled_df['Item'] == \"aapl\"]\n",
    "aapl_performance_df.head()"
   ]
  },
  {
   "cell_type": "markdown",
   "metadata": {},
   "source": [
    "### Google"
   ]
  },
  {
   "cell_type": "code",
   "execution_count": 7,
   "metadata": {},
   "outputs": [
    {
     "data": {
      "text/html": [
       "<div>\n",
       "<style scoped>\n",
       "    .dataframe tbody tr th:only-of-type {\n",
       "        vertical-align: middle;\n",
       "    }\n",
       "\n",
       "    .dataframe tbody tr th {\n",
       "        vertical-align: top;\n",
       "    }\n",
       "\n",
       "    .dataframe thead th {\n",
       "        text-align: right;\n",
       "    }\n",
       "</style>\n",
       "<table border=\"1\" class=\"dataframe\">\n",
       "  <thead>\n",
       "    <tr style=\"text-align: right;\">\n",
       "      <th></th>\n",
       "      <th>Ticket</th>\n",
       "      <th>Open Time</th>\n",
       "      <th>Type</th>\n",
       "      <th>Size</th>\n",
       "      <th>Item</th>\n",
       "      <th>Price</th>\n",
       "      <th>S / L</th>\n",
       "      <th>T / P</th>\n",
       "      <th>Close Time</th>\n",
       "      <th>Price.1</th>\n",
       "      <th>Commission</th>\n",
       "      <th>Taxes</th>\n",
       "      <th>Swap</th>\n",
       "      <th>Profit</th>\n",
       "    </tr>\n",
       "  </thead>\n",
       "  <tbody>\n",
       "    <tr>\n",
       "      <th>13</th>\n",
       "      <td>772077753.0</td>\n",
       "      <td>2024.02.29 17:04:50</td>\n",
       "      <td>buy</td>\n",
       "      <td>0.10</td>\n",
       "      <td>googl</td>\n",
       "      <td>138.35</td>\n",
       "      <td>138.39</td>\n",
       "      <td>0.00</td>\n",
       "      <td>2024.02.29 17:05:11</td>\n",
       "      <td>138.38</td>\n",
       "      <td>-0.42</td>\n",
       "      <td>0.00</td>\n",
       "      <td>0.00</td>\n",
       "      <td>0.30</td>\n",
       "    </tr>\n",
       "    <tr>\n",
       "      <th>16</th>\n",
       "      <td>772077625.0</td>\n",
       "      <td>2024.02.29 17:04:43</td>\n",
       "      <td>buy</td>\n",
       "      <td>0.10</td>\n",
       "      <td>googl</td>\n",
       "      <td>138.42</td>\n",
       "      <td>138.32</td>\n",
       "      <td>0.00</td>\n",
       "      <td>2024.02.29 17:04:48</td>\n",
       "      <td>138.30</td>\n",
       "      <td>-0.42</td>\n",
       "      <td>0.00</td>\n",
       "      <td>0.00</td>\n",
       "      <td>-1.20</td>\n",
       "    </tr>\n",
       "    <tr>\n",
       "      <th>97</th>\n",
       "      <td>772067842.0</td>\n",
       "      <td>2024.02.29 16:55:55</td>\n",
       "      <td>buy</td>\n",
       "      <td>0.10</td>\n",
       "      <td>googl</td>\n",
       "      <td>138.53</td>\n",
       "      <td>138.57</td>\n",
       "      <td>0.00</td>\n",
       "      <td>2024.02.29 16:56:08</td>\n",
       "      <td>138.57</td>\n",
       "      <td>-0.42</td>\n",
       "      <td>0.00</td>\n",
       "      <td>0.00</td>\n",
       "      <td>0.40</td>\n",
       "    </tr>\n",
       "    <tr>\n",
       "      <th>107</th>\n",
       "      <td>772067551.0</td>\n",
       "      <td>2024.02.29 16:55:25</td>\n",
       "      <td>buy</td>\n",
       "      <td>0.10</td>\n",
       "      <td>googl</td>\n",
       "      <td>138.67</td>\n",
       "      <td>138.57</td>\n",
       "      <td>0.00</td>\n",
       "      <td>2024.02.29 16:55:39</td>\n",
       "      <td>138.57</td>\n",
       "      <td>-0.42</td>\n",
       "      <td>0.00</td>\n",
       "      <td>0.00</td>\n",
       "      <td>-1.00</td>\n",
       "    </tr>\n",
       "    <tr>\n",
       "      <th>162</th>\n",
       "      <td>772064926.0</td>\n",
       "      <td>2024.02.29 16:51:23</td>\n",
       "      <td>sell</td>\n",
       "      <td>0.10</td>\n",
       "      <td>googl</td>\n",
       "      <td>138.68</td>\n",
       "      <td>138.68</td>\n",
       "      <td>0.00</td>\n",
       "      <td>2024.02.29 16:52:27</td>\n",
       "      <td>138.68</td>\n",
       "      <td>-0.42</td>\n",
       "      <td>0.00</td>\n",
       "      <td>0.00</td>\n",
       "      <td>0.00</td>\n",
       "    </tr>\n",
       "  </tbody>\n",
       "</table>\n",
       "</div>"
      ],
      "text/plain": [
       "          Ticket            Open Time  Type  Size   Item   Price   S / L  \\\n",
       "13   772077753.0  2024.02.29 17:04:50   buy  0.10  googl  138.35  138.39   \n",
       "16   772077625.0  2024.02.29 17:04:43   buy  0.10  googl  138.42  138.32   \n",
       "97   772067842.0  2024.02.29 16:55:55   buy  0.10  googl  138.53  138.57   \n",
       "107  772067551.0  2024.02.29 16:55:25   buy  0.10  googl  138.67  138.57   \n",
       "162  772064926.0  2024.02.29 16:51:23  sell  0.10  googl  138.68  138.68   \n",
       "\n",
       "    T / P           Close Time Price.1 Commission Taxes  Swap Profit  \n",
       "13   0.00  2024.02.29 17:05:11  138.38      -0.42  0.00  0.00   0.30  \n",
       "16   0.00  2024.02.29 17:04:48  138.30      -0.42  0.00  0.00  -1.20  \n",
       "97   0.00  2024.02.29 16:56:08  138.57      -0.42  0.00  0.00   0.40  \n",
       "107  0.00  2024.02.29 16:55:39  138.57      -0.42  0.00  0.00  -1.00  \n",
       "162  0.00  2024.02.29 16:52:27  138.68      -0.42  0.00  0.00   0.00  "
      ]
     },
     "execution_count": 7,
     "metadata": {},
     "output_type": "execute_result"
    }
   ],
   "source": [
    "googl_performance_df = compiled_df.loc[compiled_df['Item'] == \"googl\"]\n",
    "googl_performance_df.head()"
   ]
  },
  {
   "cell_type": "markdown",
   "metadata": {},
   "source": [
    "### Gold"
   ]
  },
  {
   "cell_type": "code",
   "execution_count": 8,
   "metadata": {},
   "outputs": [
    {
     "data": {
      "text/html": [
       "<div>\n",
       "<style scoped>\n",
       "    .dataframe tbody tr th:only-of-type {\n",
       "        vertical-align: middle;\n",
       "    }\n",
       "\n",
       "    .dataframe tbody tr th {\n",
       "        vertical-align: top;\n",
       "    }\n",
       "\n",
       "    .dataframe thead th {\n",
       "        text-align: right;\n",
       "    }\n",
       "</style>\n",
       "<table border=\"1\" class=\"dataframe\">\n",
       "  <thead>\n",
       "    <tr style=\"text-align: right;\">\n",
       "      <th></th>\n",
       "      <th>Ticket</th>\n",
       "      <th>Open Time</th>\n",
       "      <th>Type</th>\n",
       "      <th>Size</th>\n",
       "      <th>Item</th>\n",
       "      <th>Price</th>\n",
       "      <th>S / L</th>\n",
       "      <th>T / P</th>\n",
       "      <th>Close Time</th>\n",
       "      <th>Price.1</th>\n",
       "      <th>Commission</th>\n",
       "      <th>Taxes</th>\n",
       "      <th>Swap</th>\n",
       "      <th>Profit</th>\n",
       "    </tr>\n",
       "  </thead>\n",
       "  <tbody>\n",
       "    <tr>\n",
       "      <th>0</th>\n",
       "      <td>771062086.0</td>\n",
       "      <td>2024.02.27 16:24:51</td>\n",
       "      <td>buy</td>\n",
       "      <td>0.10</td>\n",
       "      <td>xauusd</td>\n",
       "      <td>2035.47</td>\n",
       "      <td>2035.39</td>\n",
       "      <td>0.00</td>\n",
       "      <td>2024.02.27 16:24:53</td>\n",
       "      <td>2035.37</td>\n",
       "      <td>-0.41</td>\n",
       "      <td>0.00</td>\n",
       "      <td>0.00</td>\n",
       "      <td>-1.00</td>\n",
       "    </tr>\n",
       "    <tr>\n",
       "      <th>1</th>\n",
       "      <td>771062150.0</td>\n",
       "      <td>2024.02.27 16:25:00</td>\n",
       "      <td>buy</td>\n",
       "      <td>0.10</td>\n",
       "      <td>xauusd</td>\n",
       "      <td>2035.36</td>\n",
       "      <td>2035.18</td>\n",
       "      <td>0.00</td>\n",
       "      <td>2024.02.27 16:25:07</td>\n",
       "      <td>2035.18</td>\n",
       "      <td>-0.41</td>\n",
       "      <td>0.00</td>\n",
       "      <td>0.00</td>\n",
       "      <td>-1.80</td>\n",
       "    </tr>\n",
       "    <tr>\n",
       "      <th>2</th>\n",
       "      <td>771062569.0</td>\n",
       "      <td>2024.02.27 16:25:11</td>\n",
       "      <td>buy</td>\n",
       "      <td>0.10</td>\n",
       "      <td>xauusd</td>\n",
       "      <td>2035.25</td>\n",
       "      <td>2035.12</td>\n",
       "      <td>0.00</td>\n",
       "      <td>2024.02.27 16:25:15</td>\n",
       "      <td>2035.13</td>\n",
       "      <td>-0.41</td>\n",
       "      <td>0.00</td>\n",
       "      <td>0.00</td>\n",
       "      <td>-1.20</td>\n",
       "    </tr>\n",
       "    <tr>\n",
       "      <th>3</th>\n",
       "      <td>771062635.0</td>\n",
       "      <td>2024.02.27 16:25:18</td>\n",
       "      <td>buy</td>\n",
       "      <td>0.10</td>\n",
       "      <td>xauusd</td>\n",
       "      <td>2035.09</td>\n",
       "      <td>2035.01</td>\n",
       "      <td>0.00</td>\n",
       "      <td>2024.02.27 16:25:22</td>\n",
       "      <td>2034.95</td>\n",
       "      <td>-0.41</td>\n",
       "      <td>0.00</td>\n",
       "      <td>0.00</td>\n",
       "      <td>-1.40</td>\n",
       "    </tr>\n",
       "    <tr>\n",
       "      <th>4</th>\n",
       "      <td>771062739.0</td>\n",
       "      <td>2024.02.27 16:25:24</td>\n",
       "      <td>buy</td>\n",
       "      <td>0.10</td>\n",
       "      <td>xauusd</td>\n",
       "      <td>2034.96</td>\n",
       "      <td>2034.97</td>\n",
       "      <td>0.00</td>\n",
       "      <td>2024.02.27 16:25:26</td>\n",
       "      <td>2034.97</td>\n",
       "      <td>-0.41</td>\n",
       "      <td>0.00</td>\n",
       "      <td>0.00</td>\n",
       "      <td>0.10</td>\n",
       "    </tr>\n",
       "  </tbody>\n",
       "</table>\n",
       "</div>"
      ],
      "text/plain": [
       "        Ticket            Open Time Type  Size    Item    Price    S / L  \\\n",
       "0  771062086.0  2024.02.27 16:24:51  buy  0.10  xauusd  2035.47  2035.39   \n",
       "1  771062150.0  2024.02.27 16:25:00  buy  0.10  xauusd  2035.36  2035.18   \n",
       "2  771062569.0  2024.02.27 16:25:11  buy  0.10  xauusd  2035.25  2035.12   \n",
       "3  771062635.0  2024.02.27 16:25:18  buy  0.10  xauusd  2035.09  2035.01   \n",
       "4  771062739.0  2024.02.27 16:25:24  buy  0.10  xauusd  2034.96  2034.97   \n",
       "\n",
       "  T / P           Close Time  Price.1 Commission Taxes  Swap Profit  \n",
       "0  0.00  2024.02.27 16:24:53  2035.37      -0.41  0.00  0.00  -1.00  \n",
       "1  0.00  2024.02.27 16:25:07  2035.18      -0.41  0.00  0.00  -1.80  \n",
       "2  0.00  2024.02.27 16:25:15  2035.13      -0.41  0.00  0.00  -1.20  \n",
       "3  0.00  2024.02.27 16:25:22  2034.95      -0.41  0.00  0.00  -1.40  \n",
       "4  0.00  2024.02.27 16:25:26  2034.97      -0.41  0.00  0.00   0.10  "
      ]
     },
     "execution_count": 8,
     "metadata": {},
     "output_type": "execute_result"
    }
   ],
   "source": [
    "xauusd_performance_df = compiled_df.loc[compiled_df['Item'] == \"xauusd\"]\n",
    "xauusd_performance_df.head()"
   ]
  },
  {
   "cell_type": "markdown",
   "metadata": {},
   "source": [
    "## Getting performance metrics for each asset"
   ]
  },
  {
   "cell_type": "markdown",
   "metadata": {},
   "source": [
    "### Profit"
   ]
  },
  {
   "cell_type": "code",
   "execution_count": 9,
   "metadata": {},
   "outputs": [
    {
     "name": "stderr",
     "output_type": "stream",
     "text": [
      "C:\\Users\\bmsto\\AppData\\Local\\Temp\\ipykernel_26296\\2845189792.py:1: SettingWithCopyWarning: \n",
      "A value is trying to be set on a copy of a slice from a DataFrame.\n",
      "Try using .loc[row_indexer,col_indexer] = value instead\n",
      "\n",
      "See the caveats in the documentation: https://pandas.pydata.org/pandas-docs/stable/user_guide/indexing.html#returning-a-view-versus-a-copy\n",
      "  xauusd_performance_df['Profit'] = pd.to_numeric(xauusd_performance_df['Profit'], errors='coerce')\n"
     ]
    },
    {
     "data": {
      "text/plain": [
       "-19.0"
      ]
     },
     "execution_count": 9,
     "metadata": {},
     "output_type": "execute_result"
    }
   ],
   "source": [
    "xauusd_performance_df['Profit'] = pd.to_numeric(xauusd_performance_df['Profit'], errors='coerce')\n",
    "xauusd_profit = xauusd_performance_df['Profit'].sum()\n",
    "xauusd_profit"
   ]
  },
  {
   "cell_type": "code",
   "execution_count": 10,
   "metadata": {},
   "outputs": [
    {
     "name": "stderr",
     "output_type": "stream",
     "text": [
      "C:\\Users\\bmsto\\AppData\\Local\\Temp\\ipykernel_26296\\2845940998.py:1: SettingWithCopyWarning: \n",
      "A value is trying to be set on a copy of a slice from a DataFrame.\n",
      "Try using .loc[row_indexer,col_indexer] = value instead\n",
      "\n",
      "See the caveats in the documentation: https://pandas.pydata.org/pandas-docs/stable/user_guide/indexing.html#returning-a-view-versus-a-copy\n",
      "  dj30_performance_df['Profit'] = pd.to_numeric(dj30_performance_df['Profit'], errors='coerce')\n"
     ]
    },
    {
     "data": {
      "text/plain": [
       "7766.0"
      ]
     },
     "execution_count": 10,
     "metadata": {},
     "output_type": "execute_result"
    }
   ],
   "source": [
    "dj30_performance_df['Profit'] = pd.to_numeric(dj30_performance_df['Profit'], errors='coerce')\n",
    "dj30_profit = dj30_performance_df['Profit'].sum()\n",
    "dj30_profit"
   ]
  },
  {
   "cell_type": "code",
   "execution_count": 11,
   "metadata": {},
   "outputs": [
    {
     "name": "stderr",
     "output_type": "stream",
     "text": [
      "C:\\Users\\bmsto\\AppData\\Local\\Temp\\ipykernel_26296\\3246019139.py:1: SettingWithCopyWarning: \n",
      "A value is trying to be set on a copy of a slice from a DataFrame.\n",
      "Try using .loc[row_indexer,col_indexer] = value instead\n",
      "\n",
      "See the caveats in the documentation: https://pandas.pydata.org/pandas-docs/stable/user_guide/indexing.html#returning-a-view-versus-a-copy\n",
      "  nvda_performance_df['Profit'] = pd.to_numeric(nvda_performance_df['Profit'], errors='coerce')\n"
     ]
    },
    {
     "data": {
      "text/plain": [
       "-1209.2"
      ]
     },
     "execution_count": 11,
     "metadata": {},
     "output_type": "execute_result"
    }
   ],
   "source": [
    "nvda_performance_df['Profit'] = pd.to_numeric(nvda_performance_df['Profit'], errors='coerce')\n",
    "nvda_profit = nvda_performance_df['Profit'].sum()\n",
    "nvda_profit"
   ]
  },
  {
   "cell_type": "code",
   "execution_count": 12,
   "metadata": {},
   "outputs": [
    {
     "name": "stderr",
     "output_type": "stream",
     "text": [
      "C:\\Users\\bmsto\\AppData\\Local\\Temp\\ipykernel_26296\\2233919245.py:1: SettingWithCopyWarning: \n",
      "A value is trying to be set on a copy of a slice from a DataFrame.\n",
      "Try using .loc[row_indexer,col_indexer] = value instead\n",
      "\n",
      "See the caveats in the documentation: https://pandas.pydata.org/pandas-docs/stable/user_guide/indexing.html#returning-a-view-versus-a-copy\n",
      "  googl_performance_df['Profit'] = pd.to_numeric(googl_performance_df['Profit'], errors='coerce')\n"
     ]
    },
    {
     "data": {
      "text/plain": [
       "-13.6"
      ]
     },
     "execution_count": 12,
     "metadata": {},
     "output_type": "execute_result"
    }
   ],
   "source": [
    "googl_performance_df['Profit'] = pd.to_numeric(googl_performance_df['Profit'], errors='coerce')\n",
    "googl_profit = googl_performance_df['Profit'].sum()\n",
    "googl_profit"
   ]
  },
  {
   "cell_type": "code",
   "execution_count": 13,
   "metadata": {},
   "outputs": [
    {
     "name": "stderr",
     "output_type": "stream",
     "text": [
      "C:\\Users\\bmsto\\AppData\\Local\\Temp\\ipykernel_26296\\954919092.py:1: SettingWithCopyWarning: \n",
      "A value is trying to be set on a copy of a slice from a DataFrame.\n",
      "Try using .loc[row_indexer,col_indexer] = value instead\n",
      "\n",
      "See the caveats in the documentation: https://pandas.pydata.org/pandas-docs/stable/user_guide/indexing.html#returning-a-view-versus-a-copy\n",
      "  aapl_performance_df['Profit'] = pd.to_numeric(aapl_performance_df['Profit'], errors='coerce')\n"
     ]
    },
    {
     "data": {
      "text/plain": [
       "-17.9"
      ]
     },
     "execution_count": 13,
     "metadata": {},
     "output_type": "execute_result"
    }
   ],
   "source": [
    "aapl_performance_df['Profit'] = pd.to_numeric(aapl_performance_df['Profit'], errors='coerce')\n",
    "aapl_profit = aapl_performance_df['Profit'].sum()\n",
    "aapl_profit"
   ]
  },
  {
   "cell_type": "markdown",
   "metadata": {},
   "source": [
    "## Getting the strike rate for each asset"
   ]
  },
  {
   "cell_type": "markdown",
   "metadata": {},
   "source": [
    "### Gold"
   ]
  },
  {
   "cell_type": "code",
   "execution_count": 14,
   "metadata": {},
   "outputs": [
    {
     "data": {
      "text/plain": [
       "0.45"
      ]
     },
     "execution_count": 14,
     "metadata": {},
     "output_type": "execute_result"
    }
   ],
   "source": [
    "gold_winning_trades = len(xauusd_performance_df[xauusd_performance_df['Profit'] > 0])\n",
    "total_gold_trades = xauusd_performance_df['Profit'].size\n",
    "gold_winning_trades/total_gold_trades"
   ]
  },
  {
   "cell_type": "markdown",
   "metadata": {},
   "source": [
    "### Dow Jones"
   ]
  },
  {
   "cell_type": "code",
   "execution_count": 15,
   "metadata": {},
   "outputs": [
    {
     "data": {
      "text/plain": [
       "0.24358974358974358"
      ]
     },
     "execution_count": 15,
     "metadata": {},
     "output_type": "execute_result"
    }
   ],
   "source": [
    "dj30_winning_trades = len(dj30_performance_df[dj30_performance_df['Profit'] > 0])\n",
    "total_dj30_trades = dj30_performance_df['Profit'].size\n",
    "dj30_winning_trades/total_dj30_trades"
   ]
  },
  {
   "cell_type": "markdown",
   "metadata": {},
   "source": [
    "### Nvidia"
   ]
  },
  {
   "cell_type": "code",
   "execution_count": 16,
   "metadata": {},
   "outputs": [
    {
     "data": {
      "text/plain": [
       "0.010752688172043012"
      ]
     },
     "execution_count": 16,
     "metadata": {},
     "output_type": "execute_result"
    }
   ],
   "source": [
    "nvda_winning_trades = len(nvda_performance_df[nvda_performance_df['Profit'] > 0])\n",
    "total_nvda_trades = nvda_performance_df['Profit'].size\n",
    "nvda_winning_trades/total_nvda_trades"
   ]
  },
  {
   "cell_type": "markdown",
   "metadata": {},
   "source": [
    "### Google"
   ]
  },
  {
   "cell_type": "code",
   "execution_count": 17,
   "metadata": {},
   "outputs": [
    {
     "data": {
      "text/plain": [
       "0.45454545454545453"
      ]
     },
     "execution_count": 17,
     "metadata": {},
     "output_type": "execute_result"
    }
   ],
   "source": [
    "googl_winning_trades = len(googl_performance_df[googl_performance_df['Profit'] > 0])\n",
    "total_googl_trades = googl_performance_df['Profit'].size\n",
    "googl_winning_trades/total_googl_trades"
   ]
  },
  {
   "cell_type": "markdown",
   "metadata": {},
   "source": [
    "### Apple"
   ]
  },
  {
   "cell_type": "code",
   "execution_count": 18,
   "metadata": {},
   "outputs": [
    {
     "data": {
      "text/plain": [
       "0.3170731707317073"
      ]
     },
     "execution_count": 18,
     "metadata": {},
     "output_type": "execute_result"
    }
   ],
   "source": [
    "aapl_winning_trades = len(aapl_performance_df[aapl_performance_df['Profit'] > 0])\n",
    "total_aapl_trades = aapl_performance_df['Profit'].size\n",
    "aapl_winning_trades/total_aapl_trades"
   ]
  },
  {
   "cell_type": "markdown",
   "metadata": {},
   "source": [
    "## Average win and loss for each asset"
   ]
  },
  {
   "cell_type": "markdown",
   "metadata": {},
   "source": [
    "### Gold"
   ]
  },
  {
   "cell_type": "code",
   "execution_count": 19,
   "metadata": {},
   "outputs": [
    {
     "name": "stdout",
     "output_type": "stream",
     "text": [
      "The average positive profit is: 0.72\n"
     ]
    }
   ],
   "source": [
    "gold_positive_profits = xauusd_performance_df[xauusd_performance_df['Profit'] > 0]['Profit']\n",
    "average_gold_profit = gold_positive_profits.mean()\n",
    "print(f\"The average positive profit is: {average_gold_profit:.2f}\")"
   ]
  },
  {
   "cell_type": "code",
   "execution_count": 20,
   "metadata": {},
   "outputs": [
    {
     "name": "stdout",
     "output_type": "stream",
     "text": [
      "The average loss is: -1.24\n"
     ]
    }
   ],
   "source": [
    "gold_negative_profits = xauusd_performance_df[xauusd_performance_df['Profit'] < 0]['Profit']\n",
    "average_gold_loss = gold_negative_profits.mean()\n",
    "print(f\"The average loss is: {average_gold_loss:.2f}\")"
   ]
  },
  {
   "cell_type": "markdown",
   "metadata": {},
   "source": [
    "### Dow Jones"
   ]
  },
  {
   "cell_type": "code",
   "execution_count": 21,
   "metadata": {},
   "outputs": [
    {
     "name": "stdout",
     "output_type": "stream",
     "text": [
      "The average positive profit is: 240.53\n"
     ]
    }
   ],
   "source": [
    "dj30_positive_profits = dj30_performance_df[dj30_performance_df['Profit'] > 0]['Profit']\n",
    "average_dj30_profit = dj30_positive_profits.mean()\n",
    "print(f\"The average positive profit is: {average_dj30_profit:.2f}\")"
   ]
  },
  {
   "cell_type": "code",
   "execution_count": 22,
   "metadata": {},
   "outputs": [
    {
     "name": "stdout",
     "output_type": "stream",
     "text": [
      "The average loss is: -34.36\n"
     ]
    }
   ],
   "source": [
    "dj30_negative_profits = dj30_performance_df[dj30_performance_df['Profit'] < 0]['Profit']\n",
    "average_dj30_loss = dj30_negative_profits.mean()\n",
    "print(f\"The average loss is: {average_dj30_loss:.2f}\")"
   ]
  },
  {
   "cell_type": "markdown",
   "metadata": {},
   "source": [
    "### Nvidia"
   ]
  },
  {
   "cell_type": "code",
   "execution_count": 23,
   "metadata": {},
   "outputs": [
    {
     "name": "stdout",
     "output_type": "stream",
     "text": [
      "The average positive profit is: 1.75\n"
     ]
    }
   ],
   "source": [
    "nvda_positive_profits = nvda_performance_df[nvda_performance_df['Profit'] > 0]['Profit']\n",
    "average_nvda_profit = nvda_positive_profits.mean()\n",
    "print(f\"The average positive profit is: {average_nvda_profit:.2f}\")"
   ]
  },
  {
   "cell_type": "code",
   "execution_count": 24,
   "metadata": {},
   "outputs": [
    {
     "name": "stdout",
     "output_type": "stream",
     "text": [
      "The average loss is: -6.59\n"
     ]
    }
   ],
   "source": [
    "nvda_negative_profits = nvda_performance_df[nvda_performance_df['Profit'] < 0]['Profit']\n",
    "average_nvda_loss = nvda_negative_profits.mean()\n",
    "print(f\"The average loss is: {average_nvda_loss:.2f}\")"
   ]
  },
  {
   "cell_type": "markdown",
   "metadata": {},
   "source": [
    "### Google"
   ]
  },
  {
   "cell_type": "code",
   "execution_count": 25,
   "metadata": {},
   "outputs": [
    {
     "name": "stdout",
     "output_type": "stream",
     "text": [
      "The average positive profit is: 0.40\n"
     ]
    }
   ],
   "source": [
    "googl_positive_profits = googl_performance_df[googl_performance_df['Profit'] > 0]['Profit']\n",
    "average_googl_profit = googl_positive_profits.mean()\n",
    "print(f\"The average positive profit is: {average_googl_profit:.2f}\")"
   ]
  },
  {
   "cell_type": "code",
   "execution_count": 26,
   "metadata": {},
   "outputs": [
    {
     "name": "stdout",
     "output_type": "stream",
     "text": [
      "The average loss is: -1.31\n"
     ]
    }
   ],
   "source": [
    "googl_negative_profits = googl_performance_df[googl_performance_df['Profit'] < 0]['Profit']\n",
    "average_googl_loss = googl_negative_profits.mean()\n",
    "print(f\"The average loss is: {average_googl_loss:.2f}\")"
   ]
  },
  {
   "cell_type": "markdown",
   "metadata": {},
   "source": [
    "### Apple"
   ]
  },
  {
   "cell_type": "code",
   "execution_count": 27,
   "metadata": {},
   "outputs": [
    {
     "name": "stdout",
     "output_type": "stream",
     "text": [
      "The average positive profit is: 0.35\n"
     ]
    }
   ],
   "source": [
    "aapl_positive_profits = aapl_performance_df[aapl_performance_df['Profit'] > 0]['Profit']\n",
    "average_aapl_profit = aapl_positive_profits.mean()\n",
    "print(f\"The average positive profit is: {average_aapl_profit:.2f}\")"
   ]
  },
  {
   "cell_type": "code",
   "execution_count": 28,
   "metadata": {},
   "outputs": [
    {
     "name": "stdout",
     "output_type": "stream",
     "text": [
      "The average loss is: -0.93\n"
     ]
    }
   ],
   "source": [
    "aapl_negative_profits = aapl_performance_df[aapl_performance_df['Profit'] < 0]['Profit']\n",
    "average_aapl_loss = aapl_negative_profits.mean()\n",
    "print(f\"The average loss is: {average_aapl_loss:.2f}\")"
   ]
  },
  {
   "cell_type": "markdown",
   "metadata": {},
   "source": [
    "## Assembling dataframe with all assets and metrics"
   ]
  },
  {
   "cell_type": "code",
   "execution_count": 29,
   "metadata": {},
   "outputs": [],
   "source": [
    "profit_metrics_df = {\n",
    "    'xauusd': {'Profit': xauusd_profit, 'Strikerate': gold_winning_trades/total_gold_trades, 'Average Win': average_gold_profit, 'Average Loss': average_gold_loss},\n",
    "    'dj30': {'Profit': dj30_profit, 'Strikerate': dj30_winning_trades/total_dj30_trades, 'Average Win': average_dj30_profit, 'Average Loss': average_dj30_loss},\n",
    "    'nvda': {'Profit': nvda_profit, 'Strikerate': nvda_winning_trades/total_nvda_trades, 'Average Win': average_nvda_profit, 'Average Loss': average_nvda_loss},\n",
    "    'googl': {'Profit': googl_profit, 'Strikerate': googl_winning_trades/total_googl_trades, 'Average Win': average_googl_profit, 'Average Loss': average_aapl_loss},\n",
    "    'aapl': {'Profit': aapl_profit, 'Strikerate': aapl_winning_trades/total_aapl_trades, 'Average Win': average_aapl_profit, 'Average Loss': average_aapl_loss}\n",
    "}\n",
    "\n",
    "# Create the DataFrame\n",
    "df = pd.DataFrame(profit_metrics_df)\n"
   ]
  },
  {
   "cell_type": "code",
   "execution_count": 30,
   "metadata": {},
   "outputs": [
    {
     "data": {
      "text/html": [
       "<div>\n",
       "<style scoped>\n",
       "    .dataframe tbody tr th:only-of-type {\n",
       "        vertical-align: middle;\n",
       "    }\n",
       "\n",
       "    .dataframe tbody tr th {\n",
       "        vertical-align: top;\n",
       "    }\n",
       "\n",
       "    .dataframe thead th {\n",
       "        text-align: right;\n",
       "    }\n",
       "</style>\n",
       "<table border=\"1\" class=\"dataframe\">\n",
       "  <thead>\n",
       "    <tr style=\"text-align: right;\">\n",
       "      <th></th>\n",
       "      <th>xauusd</th>\n",
       "      <th>dj30</th>\n",
       "      <th>nvda</th>\n",
       "      <th>googl</th>\n",
       "      <th>aapl</th>\n",
       "    </tr>\n",
       "  </thead>\n",
       "  <tbody>\n",
       "    <tr>\n",
       "      <th>Profit</th>\n",
       "      <td>-19.000000</td>\n",
       "      <td>7766.000000</td>\n",
       "      <td>-1209.200000</td>\n",
       "      <td>-13.600000</td>\n",
       "      <td>-17.900000</td>\n",
       "    </tr>\n",
       "    <tr>\n",
       "      <th>Strikerate</th>\n",
       "      <td>0.450000</td>\n",
       "      <td>0.243590</td>\n",
       "      <td>0.010753</td>\n",
       "      <td>0.454545</td>\n",
       "      <td>0.317073</td>\n",
       "    </tr>\n",
       "    <tr>\n",
       "      <th>Average Win</th>\n",
       "      <td>0.718519</td>\n",
       "      <td>240.526316</td>\n",
       "      <td>1.750000</td>\n",
       "      <td>0.400000</td>\n",
       "      <td>0.346154</td>\n",
       "    </tr>\n",
       "    <tr>\n",
       "      <th>Average Loss</th>\n",
       "      <td>-1.238710</td>\n",
       "      <td>-34.358382</td>\n",
       "      <td>-6.590761</td>\n",
       "      <td>-0.933333</td>\n",
       "      <td>-0.933333</td>\n",
       "    </tr>\n",
       "  </tbody>\n",
       "</table>\n",
       "</div>"
      ],
      "text/plain": [
       "                 xauusd         dj30         nvda      googl       aapl\n",
       "Profit       -19.000000  7766.000000 -1209.200000 -13.600000 -17.900000\n",
       "Strikerate     0.450000     0.243590     0.010753   0.454545   0.317073\n",
       "Average Win    0.718519   240.526316     1.750000   0.400000   0.346154\n",
       "Average Loss  -1.238710   -34.358382    -6.590761  -0.933333  -0.933333"
      ]
     },
     "execution_count": 30,
     "metadata": {},
     "output_type": "execute_result"
    }
   ],
   "source": [
    "df.head()"
   ]
  }
 ],
 "metadata": {
  "kernelspec": {
   "display_name": "dev",
   "language": "python",
   "name": "python3"
  },
  "language_info": {
   "codemirror_mode": {
    "name": "ipython",
    "version": 3
   },
   "file_extension": ".py",
   "mimetype": "text/x-python",
   "name": "python",
   "nbconvert_exporter": "python",
   "pygments_lexer": "ipython3",
   "version": "3.10.13"
  }
 },
 "nbformat": 4,
 "nbformat_minor": 2
}
