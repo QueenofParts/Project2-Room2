{
 "cells": [
  {
   "cell_type": "code",
   "execution_count": 8,
   "metadata": {},
   "outputs": [],
   "source": [
    "import pandas as pd\n",
    "import os\n",
    "from datetime import datetime\n",
    "import time\n",
    "from functions import *\n"
   ]
  },
  {
   "cell_type": "code",
   "execution_count": 9,
   "metadata": {},
   "outputs": [],
   "source": [
    "# Create list of html files in the html folder: Does not weed out non-html\n",
    "html_pages = os.listdir(\"resources/html\")\n",
    "\n",
    "# Create DataFrame to concat to\n",
    "compiled_df = pd.DataFrame()\n",
    "\n",
    "# Loop through html_pages list to pull in\n",
    "for page in html_pages:\n",
    "\n",
    "    # Read in the file using pandas\n",
    "    # Render the 3rd row as data header skipping the first two rows\n",
    "    df = pd.read_html(f\"resources/html/{page}\", header=2)\n",
    "    \n",
    "    # Pull the first Table which is the only table in the html page\n",
    "    data_df = pd.DataFrame(df[0])\n",
    "\n",
    "    # Convert Ticket to numeric and coerce the rest to NaN\n",
    "    data_df['Ticket'] = pd.to_numeric(data_df['Ticket'], errors=\"coerce\")\n",
    "\n",
    "    # Keep only that of Ticket and Size that is not null\n",
    "    # This keeps trade data then removes the first row of balance\n",
    "    data_df = data_df[(pd.notnull(data_df['Ticket'])) & (pd.notnull(data_df['Size']))]\n",
    "    compiled_df = pd.concat([compiled_df, data_df], axis=\"rows\")"
   ]
  },
  {
   "cell_type": "code",
   "execution_count": 12,
   "metadata": {},
   "outputs": [
    {
     "data": {
      "text/plain": [
       "array(['xauusd', 'dj30.p', '.us30cash', 'nvda', 'googl', 'aapl', 'ymh24'],\n",
       "      dtype=object)"
      ]
     },
     "execution_count": 12,
     "metadata": {},
     "output_type": "execute_result"
    }
   ],
   "source": [
    "# compiled_df.loc[compiled_df['Item'] == \"dj30.p\"]\n",
    "compiled_df['Item'].unique()"
   ]
  },
  {
   "cell_type": "code",
   "execution_count": null,
   "metadata": {},
   "outputs": [],
   "source": []
  }
 ],
 "metadata": {
  "kernelspec": {
   "display_name": "dev",
   "language": "python",
   "name": "python3"
  },
  "language_info": {
   "codemirror_mode": {
    "name": "ipython",
    "version": 3
   },
   "file_extension": ".py",
   "mimetype": "text/x-python",
   "name": "python",
   "nbconvert_exporter": "python",
   "pygments_lexer": "ipython3",
   "version": "3.10.13"
  }
 },
 "nbformat": 4,
 "nbformat_minor": 2
}
